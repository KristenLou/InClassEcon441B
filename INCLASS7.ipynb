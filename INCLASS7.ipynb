{
 "cells": [
  {
   "cell_type": "code",
   "execution_count": 1,
   "metadata": {
    "id": "Q2A8TGhKm3i5"
   },
   "outputs": [],
   "source": [
    "import openai\n",
    "import os\n",
    "import wikipedia"
   ]
  },
  {
   "cell_type": "markdown",
   "metadata": {
    "id": "7E9HEMJSX-3T"
   },
   "source": [
    "# 1.) Set up OpenAI and the enviornment\n"
   ]
  },
  {
   "cell_type": "code",
   "execution_count": 2,
   "metadata": {
    "id": "8IiKS0snlpYP"
   },
   "outputs": [],
   "source": [
    "apikey = \"\""
   ]
  },
  {
   "cell_type": "code",
   "execution_count": 3,
   "metadata": {},
   "outputs": [],
   "source": [
    "openai.api_key = apikey"
   ]
  },
  {
   "cell_type": "code",
   "execution_count": 4,
   "metadata": {},
   "outputs": [],
   "source": [
    "client = openai.OpenAI(\n",
    "    api_key = openai.api_key\n",
    ")"
   ]
  },
  {
   "cell_type": "markdown",
   "metadata": {
    "id": "tOXc5_BTm9HP"
   },
   "source": [
    "# 2.) Use the wikipedia api to get a function that pulls in the text of a wikipedia page"
   ]
  },
  {
   "cell_type": "code",
   "execution_count": 5,
   "metadata": {
    "id": "-v7OYamHlrEB"
   },
   "outputs": [],
   "source": [
    "page_titles = [\"Artificial Intelligence\", \"Machine Learning\"]"
   ]
  },
  {
   "cell_type": "code",
   "execution_count": 6,
   "metadata": {
    "id": "TgY2FkTdmhTH"
   },
   "outputs": [],
   "source": [
    "page_title = page_titles[0]"
   ]
  },
  {
   "cell_type": "code",
   "execution_count": 7,
   "metadata": {
    "id": "Kw5H5jMlmmS3"
   },
   "outputs": [],
   "source": [
    "search_results = wikipedia.search(page_title)"
   ]
  },
  {
   "cell_type": "code",
   "execution_count": 8,
   "metadata": {
    "id": "ZF3BiZyXltYO"
   },
   "outputs": [],
   "source": [
    "page = wikipedia.page(search_results[0])"
   ]
  },
  {
   "cell_type": "code",
   "execution_count": 9,
   "metadata": {},
   "outputs": [],
   "source": [
    "def get_wikipedia_content(page_title):\n",
    "    search_results = wikipedia.search(page_title)\n",
    "    page = wikipedia.page(search_results[0])\n",
    "    return(page.content)"
   ]
  },
  {
   "cell_type": "code",
   "execution_count": 10,
   "metadata": {},
   "outputs": [],
   "source": [
    "content = get_wikipedia_content(page_title)"
   ]
  },
  {
   "cell_type": "markdown",
   "metadata": {
    "id": "_9aruncMmubX"
   },
   "source": [
    "# 3.) Build a chatgpt bot that will analyze the text given and try to locate any false info"
   ]
  },
  {
   "cell_type": "code",
   "execution_count": 24,
   "metadata": {
    "id": "Bmai3B6Dmw3O"
   },
   "outputs": [],
   "source": [
    "chat_completion = client.chat.completions.create(\n",
    "    model = \"gpt-4\",\n",
    "    messages = [{\"role\" : \"system\", \"content\" : \"I will pass you an article. I am looking for all potentially false information, Please concisely list all fause information found.\"},\n",
    "                {\"role\" : \"user\", \"content\" : content[:8180]}]\n",
    "\n",
    ")"
   ]
  },
  {
   "cell_type": "code",
   "execution_count": 25,
   "metadata": {
    "id": "1jI-un5PnDjg"
   },
   "outputs": [
    {
     "name": "stdout",
     "output_type": "stream",
     "text": [
      "1. Alan Turing was not the first person to conduct research on machine intelligence – the history of AI dates back to antiquity with myths, stories and rumors of artificial beings endowed with intelligence or consciousness by master craftsmen.\n",
      "\n",
      "2. The AI spring didn't specifically occur in the early 2020s – The term is more generally used to refer to a period of renewed optimism and funding for AI research with not specific timeframe.\n",
      "\n",
      "3. The sub-symbolic versus symbolic form of knowledge representation is not necessarily a problem in AI. Both forms are applied in complementary ways. \n",
      "\n",
      "4. Not all Rational agents have goals or preferences; some AI systems operate on pre-programmed rules rather than aspirational outcomes.\n",
      "\n",
      "5. Machine learning doesn't necessarily require a human to label the input data first in supervised learning. There is a concept known as semi-supervised learning where models leverage a small amount of labeled data and a larger pool of unlabeled data for training. \n",
      "\n",
      "6. Unclear statement: \"In some problems, the agent's preferences may be uncertain, especially if there are other agents or humans involved.\" Uncertainty in preferences is not directly tied to the presence of other agents or humans; it mostly arises from the nature of the decision-making situation.\n"
     ]
    }
   ],
   "source": [
    "print(chat_completion.choices[0].message.content)"
   ]
  },
  {
   "cell_type": "code",
   "execution_count": 26,
   "metadata": {},
   "outputs": [],
   "source": [
    "def chatgpt_error_correction(text):\n",
    "    chat_completion = client.chat.completions.create(\n",
    "        model = \"gpt-4\",\n",
    "        messages = [{\"role\" : \"system\", \"content\" : \"I will pass you an article. I am looking for all potentially false information, Please concisely list all fause information found.\"},\n",
    "                {\"role\" : \"user\", \"content\" : text[:8180]}],\n",
    "\n",
    "        )\n",
    "    print(chat_completion.choices[0].message.content)"
   ]
  },
  {
   "cell_type": "markdown",
   "metadata": {
    "id": "zPw5LyPEobmk"
   },
   "source": [
    "# 4.) Make a for loop and check a few wikipedia pages and return a report of any potentially false info via wikipedia"
   ]
  },
  {
   "cell_type": "code",
   "execution_count": 28,
   "metadata": {},
   "outputs": [],
   "source": [
    "page_titles = [\"Artificial Intelligence\", \"Machine Learning\", \"UCLA\"]"
   ]
  },
  {
   "cell_type": "code",
   "execution_count": 29,
   "metadata": {
    "id": "V7cuhML2ocGn"
   },
   "outputs": [
    {
     "name": "stdout",
     "output_type": "stream",
     "text": [
      "__________________Artificial Intelligence\n",
      "1. Alan Turing was not the first person to conduct substantial research around machine intelligence. He was indeed a pioneer in the field, but there were also other crucial contributors.\n",
      "\n",
      "2. The statement that \"Funding and interest vastly increased after 2012 when deep learning surpassed all previous AI techniques\" can be misleading. While deep learning did play a significant role in sparking interest in AI, asserting that it surpassed all previous techniques may not be true. Other techniques like reinforcement learning, decision trees also played a crucial role.\n",
      "\n",
      "3. The text implies that AI is primarily an American innovation with the line - \"The AI spring of the early 2020s, with companies, universities, and laboratories overwhelmingly based in the United States pioneering significant advances in artificial intelligence.\" This might be misleading as AI research and development is a global effort with significant contribution from Europe, Asia and elsewhere. \n",
      "\n",
      "4. The statement describing formal knowledge representations suggests they are used in \"clinical decision support.\" This is not universally true, as the use of AI in direct clinical decision support is still somewhat controversial and not well-integrated in many clinical settings.\n",
      "\n",
      "5. The text regarding agents - \"The decision making agent assigns a number to each situation (called the \"utility\") that measures how much the agent prefers it.\" In decision theory, Utility isn't necessarily a measure of 'preference', but rather identifies the 'value' or 'benefit' that choosing a specific decision brings to the agent.\n",
      "\n",
      "6. The text \"The agent learns to choose the best response by trial and error\" oversimplifies the complex process of reinforcement learning, where rewards and punishments are used to reinforce certain behavior but the learning process involves more sophisticated strategies and techniques than just \"trial and error\". \n",
      "\n",
      "Please note, most of these points are not 'false' per se, but could be misleading or are common misconceptions about AI.\n",
      "__________________Machine Learning\n",
      "ERROR \n",
      "__________________UCLA\n",
      "1. The claim that UCLA's roots begin in 1881 as the southern branch of the California State Normal School is inaccurate. UCLA's history begins in 1919 when it was founded as the Southern Branch of the University of California.\n",
      "\n",
      "2. The article claims that UCLA is the second oldest campus in the University of California system, which is incorrect. The second oldest campus is UC Davis, founded in 1908.\n",
      "\n",
      "3. The article states UCLA received 174,914 undergraduate applications for Fall 2022 but without specific sources, this data point could potentially be false.\n",
      "\n",
      "4. The claim that UCLA student-athletes have won 121 NCAA team championships may be false due to lack of current and specific sources.\n",
      "\n",
      "5. The article says UCLA has been represented in every Olympics since the university's founding (except in 1924). This may be false as specific data is missing.\n",
      "\n",
      "6. The statement of UCLA being represented at every Olympics the U.S. has participated in since 1932 is potentially false due to lack of specified evidence.\n",
      "\n",
      "7. The claim that UCLA has 27 Nobel laureates, five Turing Award winners, two Chief Scientists of the U.S. Air Force and one Fields Medalist connected to it lacks direct citation to validate the information.\n",
      "\n",
      "8. The article states that in March 1881, the State Legislature authorized the creation of a southern branch of the California State Normal School in Los Angeles. However, this is incorrect. UCLA was created in 1919 as a southern branch of the University of California, not the State Normal School.\n",
      "\n",
      "9. The claim about the specific date of the Los Angeles branch of the California State Normal School opening (August 29, 1882) may be incorrect, as it lacks specific sources.\n",
      "\n",
      "10. It states that UCLA's first bachelor's degrees were awarded in 1925. This information might be inaccurate.\n",
      "\n",
      "11. The statement that the Southern Branch student council adopted the nickname \"Bruins\" in 1926 might be incorrect due to lack of direct evidence.\n",
      "\n",
      "12. Mentioning UCLA was permitted to award the master's degree in 1933, and the doctorate in 1936 needs verification through direct sources.\n",
      "\n",
      "13. The article's claim that Franklin David Murphy's appointment as Chancellor in 1960 sparked an era of significant growth can't be proven without additional context or specific sources.\n",
      "\n",
      "14. The murder-suicide incident in 2016 and the arrest of Matthew Harris in 2022 are presented without citation to validate the information.\n",
      "\n",
      "15. The claim that Westwood Forward successfully led to the creation of a new North Westwood Neighborhood Council in 2018 might be inaccurate sans proper sources.\n",
      "\n",
      "16. It's stated that UCLA signed an agreement in 2022 to partner with the Tongva for land care, but this needs a specific source for confirmation. \n",
      "\n",
      "17. The sexual harassment scandal involving Gabriel Piterberg in 2014 is presented without documents to back up the claim.\n"
     ]
    }
   ],
   "source": [
    "for page_title in page_titles:\n",
    "    try:\n",
    "        print(\"__________________\" + page_title)\n",
    "        content = get_wikipedia_content(page_title) \n",
    "        chatgpt_error_correction(content)\n",
    "    except:\n",
    "        print(\"ERROR \")"
   ]
  }
 ],
 "metadata": {
  "colab": {
   "provenance": []
  },
  "kernelspec": {
   "display_name": "Python 3 (ipykernel)",
   "language": "python",
   "name": "python3"
  },
  "language_info": {
   "codemirror_mode": {
    "name": "ipython",
    "version": 3
   },
   "file_extension": ".py",
   "mimetype": "text/x-python",
   "name": "python",
   "nbconvert_exporter": "python",
   "pygments_lexer": "ipython3",
   "version": "3.11.4"
  }
 },
 "nbformat": 4,
 "nbformat_minor": 1
}
